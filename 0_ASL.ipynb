{
 "cells": [
  {
   "cell_type": "markdown",
   "metadata": {},
   "source": [
    "# 1. Import and Install Dependencies"
   ]
  },
  {
   "cell_type": "code",
   "execution_count": 23,
   "metadata": {},
   "outputs": [],
   "source": [
    "# !pip install tensorflow==2.4.1 tensorflow-gpu==2.4.1 opencv-python mediapipe sklearn matplotlib"
   ]
  },
  {
   "cell_type": "code",
   "execution_count": 25,
   "metadata": {},
   "outputs": [],
   "source": [
    "import cv2\n",
    "import numpy as np\n",
    "import os\n",
    "from matplotlib import pyplot as plt\n",
    "import time\n",
    "import mediapipe as mp"
   ]
  },
  {
   "cell_type": "markdown",
   "metadata": {},
   "source": [
    "# 2. Keypoints using MP Holistic"
   ]
  },
  {
   "cell_type": "code",
   "execution_count": 26,
   "metadata": {},
   "outputs": [],
   "source": [
    "mp_holistic = mp.solutions.holistic # Holistic model\n",
    "mp_drawing = mp.solutions.drawing_utils # Drawing utilities"
   ]
  },
  {
   "cell_type": "code",
   "execution_count": 27,
   "metadata": {},
   "outputs": [],
   "source": [
    "def mediapipe_detection(image, model):\n",
    "    image = cv2.cvtColor(image, cv2.COLOR_BGR2RGB) # COLOR CONVERSION BGR 2 RGB\n",
    "    image.flags.writeable = False                  # Image is no longer writeable\n",
    "    results = model.process(image)                 # Make prediction\n",
    "    image.flags.writeable = True                   # Image is now writeable \n",
    "    image = cv2.cvtColor(image, cv2.COLOR_RGB2BGR) # COLOR COVERSION RGB 2 BGR\n",
    "    return image, results"
   ]
  },
  {
   "cell_type": "code",
   "execution_count": 28,
   "metadata": {},
   "outputs": [],
   "source": [
    "def draw_landmarks(image, results):\n",
    "    mp_drawing.draw_landmarks(image, results.face_landmarks, mp_holistic.FACE_CONNECTIONS) # Draw face connections\n",
    "    mp_drawing.draw_landmarks(image, results.pose_landmarks, mp_holistic.POSE_CONNECTIONS) # Draw pose connections\n",
    "    mp_drawing.draw_landmarks(image, results.left_hand_landmarks, mp_holistic.HAND_CONNECTIONS) # Draw left hand connections\n",
    "    mp_drawing.draw_landmarks(image, results.right_hand_landmarks, mp_holistic.HAND_CONNECTIONS) # Draw right hand connections"
   ]
  },
  {
   "cell_type": "code",
   "execution_count": 29,
   "metadata": {},
   "outputs": [],
   "source": [
    "def draw_styled_landmarks(image, results):\n",
    "    # Draw face connections\n",
    "    # mp_drawing.draw_landmarks(image, results.face_landmarks, mp_holistic.FACEMESH_CONTOURS, \n",
    "    #                          mp_drawing.DrawingSpec(color=(80,110,10), thickness=1, circle_radius=1), \n",
    "    #                          mp_drawing.DrawingSpec(color=(80,256,121), thickness=1, circle_radius=1)\n",
    "    #                          ) \n",
    "    # # Draw pose connections\n",
    "    mp_drawing.draw_landmarks(image, results.pose_landmarks, mp_holistic.POSE_CONNECTIONS,\n",
    "                             mp_drawing.DrawingSpec(color=(80,22,10), thickness=2, circle_radius=4), \n",
    "                             mp_drawing.DrawingSpec(color=(80,44,121), thickness=2, circle_radius=2)\n",
    "                             ) \n",
    "    # Draw left hand connections\n",
    "    mp_drawing.draw_landmarks(image, results.left_hand_landmarks, mp_holistic.HAND_CONNECTIONS, \n",
    "                             mp_drawing.DrawingSpec(color=(121,22,76), thickness=2, circle_radius=4), \n",
    "                             mp_drawing.DrawingSpec(color=(121,44,250), thickness=2, circle_radius=2)\n",
    "                             ) \n",
    "    # Draw right hand connections  \n",
    "    mp_drawing.draw_landmarks(image, results.right_hand_landmarks, mp_holistic.HAND_CONNECTIONS, \n",
    "                             mp_drawing.DrawingSpec(color=(245,117,66), thickness=2, circle_radius=4), \n",
    "                             mp_drawing.DrawingSpec(color=(245,66,230), thickness=2, circle_radius=2)\n",
    "                             ) "
   ]
  },
  {
   "cell_type": "code",
   "execution_count": 30,
   "metadata": {
    "collapsed": true
   },
   "outputs": [],
   "source": [
    "cap = cv2.VideoCapture(1)\n",
    "# Set mediapipe model \n",
    "with mp_holistic.Holistic(min_detection_confidence=0.5, min_tracking_confidence=0.5) as holistic:\n",
    "    while cap.isOpened():\n",
    "\n",
    "        # Read feed\n",
    "        ret, frame = cap.read()\n",
    "\n",
    "        # Make detections\n",
    "        image, results = mediapipe_detection(frame, holistic)\n",
    "        print(results)\n",
    "        \n",
    "        # Draw landmarks\n",
    "        draw_styled_landmarks(image, results)\n",
    "\n",
    "        # Show to screen\n",
    "        cv2.imshow('OpenCV Feed', image)\n",
    "\n",
    "        # Break gracefully\n",
    "        if cv2.waitKey(10) & 0xFF == ord('q'):\n",
    "            break\n",
    "    cap.release()\n",
    "    cv2.destroyAllWindows()"
   ]
  },
  {
   "cell_type": "code",
   "execution_count": 31,
   "metadata": {},
   "outputs": [],
   "source": [
    "cap.release()\n",
    "cv2.destroyAllWindows()"
   ]
  },
  {
   "cell_type": "markdown",
   "metadata": {},
   "source": [
    "# 3. Extract Keypoint Values"
   ]
  },
  {
   "cell_type": "code",
   "execution_count": 109,
   "metadata": {},
   "outputs": [],
   "source": [
    "def extract_keypoints(results):\n",
    "    pose = np.array([[res.x, res.y, res.z, res.visibility] for res in results.pose_landmarks.landmark]).flatten() if results.pose_landmarks else np.zeros(33*4)\n",
    "    # face = np.array([[res.x, res.y, res.z] for res in results.face_landmarks.landmark]).flatten() if results.face_landmarks else np.zeros(468*3)\n",
    "    lh = np.array([[res.x, res.y, res.z] for res in results.left_hand_landmarks.landmark]).flatten() if results.left_hand_landmarks else np.zeros(21*3)\n",
    "    rh = np.array([[res.x, res.y, res.z] for res in results.right_hand_landmarks.landmark]).flatten() if results.right_hand_landmarks else np.zeros(21*3)\n",
    "    return np.concatenate([pose, lh, rh])"
   ]
  },
  {
   "cell_type": "code",
   "execution_count": 110,
   "metadata": {},
   "outputs": [
    {
     "data": {
      "text/plain": [
       "(258,)"
      ]
     },
     "execution_count": 110,
     "metadata": {},
     "output_type": "execute_result"
    }
   ],
   "source": [
    "extract_keypoints(results).shape"
   ]
  },
  {
   "cell_type": "markdown",
   "metadata": {},
   "source": [
    "# 4. Setup Folders for Collection"
   ]
  },
  {
   "cell_type": "code",
   "execution_count": 111,
   "metadata": {},
   "outputs": [],
   "source": [
    "# Actions that we try to detect\n",
    "actions = np.array(['Terima Kasih'])\n",
    "\n",
    "# Path for exported data, numpy arrays\n",
    "DATA_PATH = os.path.join('./MP_Data') \n",
    "\n",
    "# Thirty videos worth of data\n",
    "no_sequences = 80\n",
    "\n",
    "# Videos are going to be 30 frames in length\n",
    "sequence_length = 24\n",
    "\n",
    "for action in actions: \n",
    "    for sequence in range(no_sequences):\n",
    "        try: \n",
    "            os.makedirs(os.path.join(DATA_PATH, action, str(sequence)))\n",
    "        except:\n",
    "            pass"
   ]
  },
  {
   "cell_type": "markdown",
   "metadata": {},
   "source": [
    "# 5. Collect Keypoint Values for Training and Testing"
   ]
  },
  {
   "cell_type": "code",
   "execution_count": 112,
   "metadata": {},
   "outputs": [],
   "source": [
    "cap = cv2.VideoCapture(0)\n",
    "stop = False\n",
    "# Set mediapipe model \n",
    "with mp_holistic.Holistic(min_detection_confidence=0.5, min_tracking_confidence=0.5) as holistic:\n",
    "    \n",
    "    # NEW LOOP\n",
    "    # Loop through actions\n",
    "    for action in actions:\n",
    "        # Loop through sequences aka videos\n",
    "        for sequence in range(no_sequences):\n",
    "            # Loop through video length aka sequence length\n",
    "            for frame_num in range(sequence_length):\n",
    "\n",
    "                # Read feed\n",
    "                ret, frame = cap.read()\n",
    "\n",
    "                # Make detections\n",
    "                image, results = mediapipe_detection(frame, holistic)\n",
    "#               print(results)\n",
    "\n",
    "                # Draw landmarks\n",
    "                draw_styled_landmarks(image, results)\n",
    "                \n",
    "                # NEW Apply wait logic\n",
    "                if frame_num == 0: \n",
    "                    cv2.putText(image, 'STARTING COLLECTION {}'.format(action), (120,200), \n",
    "                               cv2.FONT_HERSHEY_SIMPLEX, 1, (0,255, 0), 4, cv2.LINE_AA)\n",
    "                    cv2.putText(image, 'Collecting frames for {} Video Number {} Frame {}'.format(action, sequence, frame_num), (15,12), \n",
    "                               cv2.FONT_HERSHEY_SIMPLEX, 0.5, (0, 0, 255), 1, cv2.LINE_AA)\n",
    "                    # Show to screen\n",
    "                    cv2.imshow('OpenCV Feed', image)\n",
    "                    cv2.waitKey(2000)\n",
    "                else: \n",
    "                    cv2.putText(image, 'Collecting frames for {} Video Number {} Frame {}'.format(action, sequence, frame_num), (15,12), \n",
    "                               cv2.FONT_HERSHEY_SIMPLEX, 0.5, (0, 0, 255), 1, cv2.LINE_AA)\n",
    "                    # Show to screen\n",
    "                    cv2.imshow('OpenCV Feed', image)\n",
    "                \n",
    "                # NEW Export keypoints\n",
    "                keypoints = extract_keypoints(results)\n",
    "                npy_path = os.path.join(DATA_PATH, action, str(sequence), str(frame_num))\n",
    "                np.save(npy_path, keypoints)\n",
    "\n",
    "                # Break gracefully\n",
    "                if cv2.waitKey(10) & 0xFF == ord('q'):\n",
    "                    stop = True\n",
    "                    break\n",
    "            if stop:\n",
    "                break\n",
    "        if stop:\n",
    "            break\n",
    "                \n",
    "    cap.release()\n",
    "    cv2.destroyAllWindows()"
   ]
  },
  {
   "cell_type": "code",
   "execution_count": 113,
   "metadata": {},
   "outputs": [],
   "source": [
    "import cv2\n",
    "cap = cv2.VideoCapture(0)\n",
    "cap.release()\n",
    "cv2.destroyAllWindows()"
   ]
  },
  {
   "cell_type": "markdown",
   "metadata": {},
   "source": [
    "# 6. Preprocess Data and Create Labels and Features"
   ]
  },
  {
   "cell_type": "code",
   "execution_count": 114,
   "metadata": {},
   "outputs": [],
   "source": [
    "from sklearn.model_selection import train_test_split\n",
    "from tensorflow.keras.utils import to_categorical"
   ]
  },
  {
   "cell_type": "code",
   "execution_count": 115,
   "metadata": {},
   "outputs": [],
   "source": [
    "actions = os.listdir('./MP_Data')\n",
    "actions = np.array(actions)"
   ]
  },
  {
   "cell_type": "code",
   "execution_count": 116,
   "metadata": {},
   "outputs": [],
   "source": [
    "label_map = {label:num for num, label in enumerate(actions)}"
   ]
  },
  {
   "cell_type": "code",
   "execution_count": 117,
   "metadata": {},
   "outputs": [
    {
     "data": {
      "text/plain": [
       "{'Bapak': 0, 'Terima Kasih': 1}"
      ]
     },
     "execution_count": 117,
     "metadata": {},
     "output_type": "execute_result"
    }
   ],
   "source": [
    "label_map"
   ]
  },
  {
   "cell_type": "code",
   "execution_count": 118,
   "metadata": {},
   "outputs": [],
   "source": [
    "sequences, labels = [], []\n",
    "for action in actions:\n",
    "    for sequence in range(no_sequences):\n",
    "        window = []\n",
    "        for frame_num in range(sequence_length):\n",
    "            res = np.load(os.path.join(DATA_PATH, action, str(sequence), \"{}.npy\".format(frame_num)))\n",
    "            window.append(res)\n",
    "        sequences.append(window)\n",
    "        labels.append(label_map[action])"
   ]
  },
  {
   "cell_type": "code",
   "execution_count": 119,
   "metadata": {},
   "outputs": [],
   "source": [
    "X = np.array(sequences)"
   ]
  },
  {
   "cell_type": "code",
   "execution_count": 120,
   "metadata": {},
   "outputs": [],
   "source": [
    "y = to_categorical(labels).astype(int)"
   ]
  },
  {
   "cell_type": "code",
   "execution_count": 121,
   "metadata": {},
   "outputs": [
    {
     "data": {
      "text/plain": [
       "array([[1, 0],\n",
       "       [1, 0],\n",
       "       [1, 0],\n",
       "       [1, 0],\n",
       "       [1, 0],\n",
       "       [1, 0],\n",
       "       [1, 0],\n",
       "       [1, 0],\n",
       "       [1, 0],\n",
       "       [1, 0],\n",
       "       [1, 0],\n",
       "       [1, 0],\n",
       "       [1, 0],\n",
       "       [1, 0],\n",
       "       [1, 0],\n",
       "       [1, 0],\n",
       "       [1, 0],\n",
       "       [1, 0],\n",
       "       [1, 0],\n",
       "       [1, 0],\n",
       "       [1, 0],\n",
       "       [1, 0],\n",
       "       [1, 0],\n",
       "       [1, 0],\n",
       "       [1, 0],\n",
       "       [1, 0],\n",
       "       [1, 0],\n",
       "       [1, 0],\n",
       "       [1, 0],\n",
       "       [1, 0],\n",
       "       [1, 0],\n",
       "       [1, 0],\n",
       "       [1, 0],\n",
       "       [1, 0],\n",
       "       [1, 0],\n",
       "       [1, 0],\n",
       "       [1, 0],\n",
       "       [1, 0],\n",
       "       [1, 0],\n",
       "       [1, 0],\n",
       "       [1, 0],\n",
       "       [1, 0],\n",
       "       [1, 0],\n",
       "       [1, 0],\n",
       "       [1, 0],\n",
       "       [1, 0],\n",
       "       [1, 0],\n",
       "       [1, 0],\n",
       "       [1, 0],\n",
       "       [1, 0],\n",
       "       [1, 0],\n",
       "       [1, 0],\n",
       "       [1, 0],\n",
       "       [1, 0],\n",
       "       [1, 0],\n",
       "       [1, 0],\n",
       "       [1, 0],\n",
       "       [1, 0],\n",
       "       [1, 0],\n",
       "       [1, 0],\n",
       "       [1, 0],\n",
       "       [1, 0],\n",
       "       [1, 0],\n",
       "       [1, 0],\n",
       "       [1, 0],\n",
       "       [1, 0],\n",
       "       [1, 0],\n",
       "       [1, 0],\n",
       "       [1, 0],\n",
       "       [1, 0],\n",
       "       [1, 0],\n",
       "       [1, 0],\n",
       "       [1, 0],\n",
       "       [1, 0],\n",
       "       [1, 0],\n",
       "       [1, 0],\n",
       "       [1, 0],\n",
       "       [1, 0],\n",
       "       [1, 0],\n",
       "       [1, 0],\n",
       "       [0, 1],\n",
       "       [0, 1],\n",
       "       [0, 1],\n",
       "       [0, 1],\n",
       "       [0, 1],\n",
       "       [0, 1],\n",
       "       [0, 1],\n",
       "       [0, 1],\n",
       "       [0, 1],\n",
       "       [0, 1],\n",
       "       [0, 1],\n",
       "       [0, 1],\n",
       "       [0, 1],\n",
       "       [0, 1],\n",
       "       [0, 1],\n",
       "       [0, 1],\n",
       "       [0, 1],\n",
       "       [0, 1],\n",
       "       [0, 1],\n",
       "       [0, 1],\n",
       "       [0, 1],\n",
       "       [0, 1],\n",
       "       [0, 1],\n",
       "       [0, 1],\n",
       "       [0, 1],\n",
       "       [0, 1],\n",
       "       [0, 1],\n",
       "       [0, 1],\n",
       "       [0, 1],\n",
       "       [0, 1],\n",
       "       [0, 1],\n",
       "       [0, 1],\n",
       "       [0, 1],\n",
       "       [0, 1],\n",
       "       [0, 1],\n",
       "       [0, 1],\n",
       "       [0, 1],\n",
       "       [0, 1],\n",
       "       [0, 1],\n",
       "       [0, 1],\n",
       "       [0, 1],\n",
       "       [0, 1],\n",
       "       [0, 1],\n",
       "       [0, 1],\n",
       "       [0, 1],\n",
       "       [0, 1],\n",
       "       [0, 1],\n",
       "       [0, 1],\n",
       "       [0, 1],\n",
       "       [0, 1],\n",
       "       [0, 1],\n",
       "       [0, 1],\n",
       "       [0, 1],\n",
       "       [0, 1],\n",
       "       [0, 1],\n",
       "       [0, 1],\n",
       "       [0, 1],\n",
       "       [0, 1],\n",
       "       [0, 1],\n",
       "       [0, 1],\n",
       "       [0, 1],\n",
       "       [0, 1],\n",
       "       [0, 1],\n",
       "       [0, 1],\n",
       "       [0, 1],\n",
       "       [0, 1],\n",
       "       [0, 1],\n",
       "       [0, 1],\n",
       "       [0, 1],\n",
       "       [0, 1],\n",
       "       [0, 1],\n",
       "       [0, 1],\n",
       "       [0, 1],\n",
       "       [0, 1],\n",
       "       [0, 1],\n",
       "       [0, 1],\n",
       "       [0, 1],\n",
       "       [0, 1],\n",
       "       [0, 1],\n",
       "       [0, 1]])"
      ]
     },
     "execution_count": 121,
     "metadata": {},
     "output_type": "execute_result"
    }
   ],
   "source": [
    "y"
   ]
  },
  {
   "cell_type": "code",
   "execution_count": 122,
   "metadata": {},
   "outputs": [],
   "source": [
    "X_train, X_test, y_train, y_test = train_test_split(X, y, test_size=0.1, stratify=y)"
   ]
  },
  {
   "cell_type": "code",
   "execution_count": 123,
   "metadata": {},
   "outputs": [
    {
     "data": {
      "text/plain": [
       "(16, 2)"
      ]
     },
     "execution_count": 123,
     "metadata": {},
     "output_type": "execute_result"
    }
   ],
   "source": [
    "y_test.shape"
   ]
  },
  {
   "cell_type": "markdown",
   "metadata": {},
   "source": [
    "# 7. Build and Train LSTM Neural Network"
   ]
  },
  {
   "cell_type": "code",
   "execution_count": 124,
   "metadata": {},
   "outputs": [],
   "source": [
    "from tensorflow.keras.models import Sequential\n",
    "from tensorflow.keras.layers import LSTM, Dense, Dropout\n",
    "from tensorflow.keras.callbacks import TensorBoard, ReduceLROnPlateau\n",
    "import tensorflow as tf"
   ]
  },
  {
   "cell_type": "code",
   "execution_count": 125,
   "metadata": {},
   "outputs": [],
   "source": [
    "log_dir = os.path.join('Logs')\n",
    "tb_callback = [\n",
    "    TensorBoard(log_dir=log_dir),\n",
    "    ReduceLROnPlateau(factor=0.1, patience=5)\n",
    "]"
   ]
  },
  {
   "cell_type": "code",
   "execution_count": 126,
   "metadata": {},
   "outputs": [],
   "source": [
    "model = Sequential()\n",
    "model.add(LSTM(64, return_sequences=True, activation='relu', input_shape=(24,258)))\n",
    "model.add(LSTM(128, return_sequences=True, activation='relu'))\n",
    "model.add(LSTM(64, return_sequences=False, activation='relu'))\n",
    "model.add(Dense(64, activation='relu'))\n",
    "model.add(Dropout(0.3))\n",
    "model.add(Dense(32, activation='relu'))\n",
    "model.add(Dense(actions.shape[0], activation='softmax'))"
   ]
  },
  {
   "cell_type": "code",
   "execution_count": 127,
   "metadata": {},
   "outputs": [
    {
     "name": "stdout",
     "output_type": "stream",
     "text": [
      "Model: \"sequential_1\"\n",
      "_________________________________________________________________\n",
      " Layer (type)                Output Shape              Param #   \n",
      "=================================================================\n",
      " lstm_3 (LSTM)               (None, 24, 64)            82688     \n",
      "                                                                 \n",
      " lstm_4 (LSTM)               (None, 24, 128)           98816     \n",
      "                                                                 \n",
      " lstm_5 (LSTM)               (None, 64)                49408     \n",
      "                                                                 \n",
      " dense_3 (Dense)             (None, 64)                4160      \n",
      "                                                                 \n",
      " dropout_1 (Dropout)         (None, 64)                0         \n",
      "                                                                 \n",
      " dense_4 (Dense)             (None, 32)                2080      \n",
      "                                                                 \n",
      " dense_5 (Dense)             (None, 2)                 66        \n",
      "                                                                 \n",
      "=================================================================\n",
      "Total params: 237218 (926.63 KB)\n",
      "Trainable params: 237218 (926.63 KB)\n",
      "Non-trainable params: 0 (0.00 Byte)\n",
      "_________________________________________________________________\n"
     ]
    }
   ],
   "source": [
    "model.summary()"
   ]
  },
  {
   "cell_type": "code",
   "execution_count": 128,
   "metadata": {},
   "outputs": [],
   "source": [
    "model.compile(optimizer=tf.optimizers.Adam(learning_rate=0.0001), loss='categorical_crossentropy', metrics=['accuracy'])"
   ]
  },
  {
   "cell_type": "code",
   "execution_count": 129,
   "metadata": {
    "scrolled": true
   },
   "outputs": [
    {
     "name": "stdout",
     "output_type": "stream",
     "text": [
      "Epoch 1/40\n",
      "5/5 [==============================] - 7s 200ms/step - loss: 0.6794 - accuracy: 0.4931 - val_loss: 0.6521 - val_accuracy: 0.8125 - lr: 1.0000e-04\n",
      "Epoch 2/40\n",
      "5/5 [==============================] - 0s 41ms/step - loss: 0.6553 - accuracy: 0.7222 - val_loss: 0.6322 - val_accuracy: 0.8750 - lr: 1.0000e-04\n",
      "Epoch 3/40\n",
      "5/5 [==============================] - 0s 40ms/step - loss: 0.6318 - accuracy: 0.7153 - val_loss: 0.5986 - val_accuracy: 0.8750 - lr: 1.0000e-04\n",
      "Epoch 4/40\n",
      "5/5 [==============================] - 0s 38ms/step - loss: 0.5900 - accuracy: 0.8611 - val_loss: 0.5448 - val_accuracy: 1.0000 - lr: 1.0000e-04\n",
      "Epoch 5/40\n",
      "5/5 [==============================] - 0s 39ms/step - loss: 0.5405 - accuracy: 0.9444 - val_loss: 0.4361 - val_accuracy: 1.0000 - lr: 1.0000e-04\n",
      "Epoch 6/40\n",
      "5/5 [==============================] - 0s 39ms/step - loss: 0.4130 - accuracy: 0.9444 - val_loss: 0.2789 - val_accuracy: 1.0000 - lr: 1.0000e-04\n",
      "Epoch 7/40\n",
      "5/5 [==============================] - 0s 38ms/step - loss: 0.2948 - accuracy: 0.9792 - val_loss: 0.1419 - val_accuracy: 1.0000 - lr: 1.0000e-04\n",
      "Epoch 8/40\n",
      "5/5 [==============================] - 0s 38ms/step - loss: 0.1314 - accuracy: 0.9861 - val_loss: 0.0452 - val_accuracy: 1.0000 - lr: 1.0000e-04\n",
      "Epoch 9/40\n",
      "5/5 [==============================] - 0s 40ms/step - loss: 0.1061 - accuracy: 0.9514 - val_loss: 0.0107 - val_accuracy: 1.0000 - lr: 1.0000e-04\n",
      "Epoch 10/40\n",
      "5/5 [==============================] - 0s 40ms/step - loss: 0.0585 - accuracy: 0.9861 - val_loss: 0.0017 - val_accuracy: 1.0000 - lr: 1.0000e-04\n",
      "Epoch 11/40\n",
      "5/5 [==============================] - 0s 39ms/step - loss: 0.0287 - accuracy: 0.9931 - val_loss: 5.7043e-05 - val_accuracy: 1.0000 - lr: 1.0000e-04\n",
      "Epoch 12/40\n",
      "5/5 [==============================] - 0s 37ms/step - loss: 0.0332 - accuracy: 0.9792 - val_loss: 9.1786e-06 - val_accuracy: 1.0000 - lr: 1.0000e-04\n",
      "Epoch 13/40\n",
      "5/5 [==============================] - 0s 37ms/step - loss: 0.0530 - accuracy: 0.9792 - val_loss: 3.7848e-06 - val_accuracy: 1.0000 - lr: 1.0000e-04\n",
      "Epoch 14/40\n",
      "5/5 [==============================] - 0s 38ms/step - loss: 0.0076 - accuracy: 0.9931 - val_loss: 0.0162 - val_accuracy: 1.0000 - lr: 1.0000e-04\n",
      "Epoch 15/40\n",
      "5/5 [==============================] - 0s 51ms/step - loss: 0.0262 - accuracy: 0.9931 - val_loss: 2.7836e-04 - val_accuracy: 1.0000 - lr: 1.0000e-04\n",
      "Epoch 16/40\n",
      "5/5 [==============================] - 0s 37ms/step - loss: 0.0040 - accuracy: 1.0000 - val_loss: 2.6757e-04 - val_accuracy: 1.0000 - lr: 1.0000e-04\n",
      "Epoch 17/40\n",
      "5/5 [==============================] - 0s 40ms/step - loss: 0.0029 - accuracy: 1.0000 - val_loss: 3.1879e-04 - val_accuracy: 1.0000 - lr: 1.0000e-05\n",
      "Epoch 18/40\n",
      "5/5 [==============================] - 0s 38ms/step - loss: 0.0032 - accuracy: 1.0000 - val_loss: 3.3746e-04 - val_accuracy: 1.0000 - lr: 1.0000e-05\n",
      "Epoch 19/40\n",
      "5/5 [==============================] - 0s 38ms/step - loss: 0.0082 - accuracy: 1.0000 - val_loss: 3.1262e-04 - val_accuracy: 1.0000 - lr: 1.0000e-05\n",
      "Epoch 20/40\n",
      "5/5 [==============================] - 0s 39ms/step - loss: 0.0065 - accuracy: 1.0000 - val_loss: 2.6968e-04 - val_accuracy: 1.0000 - lr: 1.0000e-05\n",
      "Epoch 21/40\n",
      "5/5 [==============================] - 0s 40ms/step - loss: 0.0053 - accuracy: 1.0000 - val_loss: 2.1781e-04 - val_accuracy: 1.0000 - lr: 1.0000e-05\n",
      "Epoch 22/40\n",
      "5/5 [==============================] - 0s 39ms/step - loss: 0.0070 - accuracy: 1.0000 - val_loss: 2.1484e-04 - val_accuracy: 1.0000 - lr: 1.0000e-06\n",
      "Epoch 23/40\n",
      "5/5 [==============================] - 0s 39ms/step - loss: 0.0016 - accuracy: 1.0000 - val_loss: 2.1265e-04 - val_accuracy: 1.0000 - lr: 1.0000e-06\n",
      "Epoch 24/40\n",
      "5/5 [==============================] - 0s 39ms/step - loss: 0.0015 - accuracy: 1.0000 - val_loss: 2.1114e-04 - val_accuracy: 1.0000 - lr: 1.0000e-06\n",
      "Epoch 25/40\n",
      "5/5 [==============================] - 0s 39ms/step - loss: 0.0047 - accuracy: 1.0000 - val_loss: 2.0993e-04 - val_accuracy: 1.0000 - lr: 1.0000e-06\n",
      "Epoch 26/40\n",
      "5/5 [==============================] - 0s 39ms/step - loss: 0.0051 - accuracy: 1.0000 - val_loss: 2.0872e-04 - val_accuracy: 1.0000 - lr: 1.0000e-06\n",
      "Epoch 27/40\n",
      "5/5 [==============================] - 0s 37ms/step - loss: 0.0231 - accuracy: 0.9861 - val_loss: 2.0854e-04 - val_accuracy: 1.0000 - lr: 1.0000e-07\n",
      "Epoch 28/40\n",
      "5/5 [==============================] - 0s 39ms/step - loss: 0.0098 - accuracy: 0.9931 - val_loss: 2.0831e-04 - val_accuracy: 1.0000 - lr: 1.0000e-07\n",
      "Epoch 29/40\n",
      "5/5 [==============================] - 0s 39ms/step - loss: 0.0038 - accuracy: 1.0000 - val_loss: 2.0810e-04 - val_accuracy: 1.0000 - lr: 1.0000e-07\n",
      "Epoch 30/40\n",
      "5/5 [==============================] - 0s 54ms/step - loss: 0.0029 - accuracy: 1.0000 - val_loss: 2.0792e-04 - val_accuracy: 1.0000 - lr: 1.0000e-07\n",
      "Epoch 31/40\n",
      "5/5 [==============================] - 0s 39ms/step - loss: 0.0135 - accuracy: 0.9931 - val_loss: 2.0767e-04 - val_accuracy: 1.0000 - lr: 1.0000e-07\n",
      "Epoch 32/40\n",
      "5/5 [==============================] - 0s 39ms/step - loss: 0.0143 - accuracy: 0.9931 - val_loss: 2.0766e-04 - val_accuracy: 1.0000 - lr: 1.0000e-08\n",
      "Epoch 33/40\n",
      "5/5 [==============================] - 0s 39ms/step - loss: 0.0036 - accuracy: 1.0000 - val_loss: 2.0764e-04 - val_accuracy: 1.0000 - lr: 1.0000e-08\n",
      "Epoch 34/40\n",
      "5/5 [==============================] - 0s 39ms/step - loss: 0.0052 - accuracy: 1.0000 - val_loss: 2.0761e-04 - val_accuracy: 1.0000 - lr: 1.0000e-08\n",
      "Epoch 35/40\n",
      "5/5 [==============================] - 0s 39ms/step - loss: 0.0031 - accuracy: 1.0000 - val_loss: 2.0760e-04 - val_accuracy: 1.0000 - lr: 1.0000e-08\n",
      "Epoch 36/40\n",
      "5/5 [==============================] - 0s 38ms/step - loss: 0.0031 - accuracy: 1.0000 - val_loss: 2.0760e-04 - val_accuracy: 1.0000 - lr: 1.0000e-08\n",
      "Epoch 37/40\n",
      "5/5 [==============================] - 0s 38ms/step - loss: 0.0028 - accuracy: 1.0000 - val_loss: 2.0760e-04 - val_accuracy: 1.0000 - lr: 1.0000e-09\n",
      "Epoch 38/40\n",
      "5/5 [==============================] - 0s 42ms/step - loss: 0.0021 - accuracy: 1.0000 - val_loss: 2.0760e-04 - val_accuracy: 1.0000 - lr: 1.0000e-09\n",
      "Epoch 39/40\n",
      "5/5 [==============================] - 0s 49ms/step - loss: 0.0127 - accuracy: 0.9931 - val_loss: 2.0760e-04 - val_accuracy: 1.0000 - lr: 1.0000e-09\n",
      "Epoch 40/40\n",
      "5/5 [==============================] - 0s 38ms/step - loss: 0.0033 - accuracy: 1.0000 - val_loss: 2.0760e-04 - val_accuracy: 1.0000 - lr: 1.0000e-09\n"
     ]
    }
   ],
   "source": [
    "history = model.fit(X_train, y_train, \n",
    "                        epochs=40, \n",
    "                        callbacks=[tb_callback],\n",
    "                        validation_data = (X_test, y_test))"
   ]
  },
  {
   "cell_type": "code",
   "execution_count": 130,
   "metadata": {},
   "outputs": [
    {
     "data": {
      "text/plain": [
       "Text(0.5, 1.0, 'Training and Validation Loss')"
      ]
     },
     "execution_count": 130,
     "metadata": {},
     "output_type": "execute_result"
    },
    {
     "data": {
      "image/png": "[encoded data removed]",
      "text/plain": [
       "<Figure size 2000x1000 with 2 Axes>"
      ]
     },
     "metadata": {},
     "output_type": "display_data"
    }
   ],
   "source": [
    "acc = history.history['accuracy']\n",
    "val_acc = history.history['val_accuracy']\n",
    "loss = history.history['loss']\n",
    "val_loss = history.history['val_loss']\n",
    "epochs_range = history.epoch\n",
    "\n",
    "plt.figure(figsize=(20,10))\n",
    "plt.subplot(1, 2, 1)\n",
    "plt.plot(epochs_range, acc, label='Training Accuracy')\n",
    "plt.plot(epochs_range, val_acc, label='Validation Accuracy')\n",
    "plt.legend(loc='lower right')\n",
    "plt.title('Training and Validation Accuracy')\n",
    "\n",
    "plt.subplot(1, 2, 2)\n",
    "plt.plot(epochs_range, loss, label='Training Loss')\n",
    "plt.plot(epochs_range, val_loss, label='Validation Loss')\n",
    "plt.legend(loc='upper right')\n",
    "plt.title('Training and Validation Loss')"
   ]
  },
  {
   "cell_type": "markdown",
   "metadata": {},
   "source": [
    "# 8. Make Predictions"
   ]
  },
  {
   "cell_type": "code",
   "execution_count": 131,
   "metadata": {},
   "outputs": [
    {
     "name": "stdout",
     "output_type": "stream",
     "text": [
      "1/1 [==============================] - 1s 521ms/step\n"
     ]
    }
   ],
   "source": [
    "res = model.predict(X_test)"
   ]
  },
  {
   "cell_type": "code",
   "execution_count": 134,
   "metadata": {},
   "outputs": [
    {
     "data": {
      "text/plain": [
       "'Bapak'"
      ]
     },
     "execution_count": 134,
     "metadata": {},
     "output_type": "execute_result"
    }
   ],
   "source": [
    "actions[np.argmax(res[11])]"
   ]
  },
  {
   "cell_type": "code",
   "execution_count": 136,
   "metadata": {},
   "outputs": [
    {
     "data": {
      "text/plain": [
       "'Bapak'"
      ]
     },
     "execution_count": 136,
     "metadata": {},
     "output_type": "execute_result"
    }
   ],
   "source": [
    "actions[np.argmax(y_test[11])]"
   ]
  },
  {
   "cell_type": "markdown",
   "metadata": {},
   "source": [
    "# 9. Save Weights"
   ]
  },
  {
   "cell_type": "code",
   "execution_count": 137,
   "metadata": {},
   "outputs": [
    {
     "name": "stderr",
     "output_type": "stream",
     "text": [
      "c:\\Streamlit\\dims\\Lib\\site-packages\\keras\\src\\engine\\training.py:3079: UserWarning: You are saving your model as an HDF5 file via `model.save()`. This file format is considered legacy. We recommend using instead the native Keras format, e.g. `model.save('my_model.keras')`.\n",
      "  saving_api.save_model(\n"
     ]
    }
   ],
   "source": [
    "model.save('model_thirdrun.h5')"
   ]
  },
  {
   "cell_type": "code",
   "execution_count": 138,
   "metadata": {},
   "outputs": [],
   "source": [
    "model.load_weights('model_thirdrun.h5')"
   ]
  },
  {
   "cell_type": "markdown",
   "metadata": {},
   "source": [
    "# 10. Evaluation using Confusion Matrix and Accuracy"
   ]
  },
  {
   "cell_type": "code",
   "execution_count": 67,
   "metadata": {},
   "outputs": [],
   "source": [
    "import tensorflow as tf"
   ]
  },
  {
   "cell_type": "code",
   "execution_count": 139,
   "metadata": {},
   "outputs": [
    {
     "name": "stdout",
     "output_type": "stream",
     "text": [
      "Model: \"sequential_1\"\n",
      "_________________________________________________________________\n",
      " Layer (type)                Output Shape              Param #   \n",
      "=================================================================\n",
      " lstm_3 (LSTM)               (None, 24, 64)            82688     \n",
      "                                                                 \n",
      " lstm_4 (LSTM)               (None, 24, 128)           98816     \n",
      "                                                                 \n",
      " lstm_5 (LSTM)               (None, 64)                49408     \n",
      "                                                                 \n",
      " dense_3 (Dense)             (None, 64)                4160      \n",
      "                                                                 \n",
      " dropout_1 (Dropout)         (None, 64)                0         \n",
      "                                                                 \n",
      " dense_4 (Dense)             (None, 32)                2080      \n",
      "                                                                 \n",
      " dense_5 (Dense)             (None, 2)                 66        \n",
      "                                                                 \n",
      "=================================================================\n",
      "Total params: 237218 (926.63 KB)\n",
      "Trainable params: 237218 (926.63 KB)\n",
      "Non-trainable params: 0 (0.00 Byte)\n",
      "_________________________________________________________________\n"
     ]
    }
   ],
   "source": [
    "# Load model:\n",
    "# Recreate the exact same model, including its weights and the optimizer\n",
    "model = tf.keras.models.load_model('./model_thirdrun.h5')\n",
    "\n",
    "# Show the model architecture\n",
    "model.summary()\n",
    "\n",
    "# We need to define its optimizer and loss function again since the h5 file\n",
    "# does not contain those information :(\n",
    "model.compile(optimizer='adam',\n",
    "              loss='categorical_crossentropy',\n",
    "              metrics=['accuracy'])"
   ]
  },
  {
   "cell_type": "code",
   "execution_count": 69,
   "metadata": {},
   "outputs": [],
   "source": [
    "from sklearn.metrics import multilabel_confusion_matrix, accuracy_score"
   ]
  },
  {
   "cell_type": "code",
   "execution_count": 140,
   "metadata": {},
   "outputs": [
    {
     "name": "stdout",
     "output_type": "stream",
     "text": [
      "1/1 [==============================] - 1s 877ms/step\n"
     ]
    }
   ],
   "source": [
    "yhat = model.predict(X_test)"
   ]
  },
  {
   "cell_type": "code",
   "execution_count": 141,
   "metadata": {},
   "outputs": [],
   "source": [
    "ytrue = np.argmax(y_test, axis=1).tolist()\n",
    "yhat = np.argmax(yhat, axis=1).tolist()"
   ]
  },
  {
   "cell_type": "code",
   "execution_count": 142,
   "metadata": {},
   "outputs": [
    {
     "data": {
      "text/plain": [
       "array([[[8, 0],\n",
       "        [0, 8]],\n",
       "\n",
       "       [[8, 0],\n",
       "        [0, 8]]], dtype=int64)"
      ]
     },
     "execution_count": 142,
     "metadata": {},
     "output_type": "execute_result"
    }
   ],
   "source": [
    "multilabel_confusion_matrix(ytrue, yhat)"
   ]
  },
  {
   "cell_type": "code",
   "execution_count": 143,
   "metadata": {},
   "outputs": [
    {
     "data": {
      "text/plain": [
       "1.0"
      ]
     },
     "execution_count": 143,
     "metadata": {},
     "output_type": "execute_result"
    }
   ],
   "source": [
    "accuracy_score(ytrue, yhat)"
   ]
  },
  {
   "cell_type": "markdown",
   "metadata": {},
   "source": [
    "# 11. Text to speak"
   ]
  },
  {
   "cell_type": "code",
   "execution_count": 63,
   "metadata": {},
   "outputs": [
    {
     "name": "stdout",
     "output_type": "stream",
     "text": [
      "Requirement already satisfied: pyttsx3 in c:\\streamlit\\dims\\lib\\site-packages (2.90)\n",
      "Requirement already satisfied: comtypes in c:\\streamlit\\dims\\lib\\site-packages (from pyttsx3) (1.2.0)\n",
      "Requirement already satisfied: pypiwin32 in c:\\streamlit\\dims\\lib\\site-packages (from pyttsx3) (223)\n",
      "Requirement already satisfied: pywin32 in c:\\streamlit\\dims\\lib\\site-packages (from pyttsx3) (306)\n"
     ]
    }
   ],
   "source": [
    "!pip install pyttsx3"
   ]
  },
  {
   "cell_type": "code",
   "execution_count": 144,
   "metadata": {},
   "outputs": [],
   "source": [
    "import pyttsx3\n",
    "\n",
    "engine = pyttsx3.init()\n",
    "voices = engine.getProperty('voices')\n",
    "engine.say('see you later')\n",
    "engine.runAndWait()"
   ]
  },
  {
   "cell_type": "code",
   "execution_count": 145,
   "metadata": {},
   "outputs": [
    {
     "ename": "IndexError",
     "evalue": "list index out of range",
     "output_type": "error",
     "traceback": [
      "\u001b[1;31m---------------------------------------------------------------------------\u001b[0m",
      "\u001b[1;31mIndexError\u001b[0m                                Traceback (most recent call last)",
      "\u001b[1;32md:\\Kuliah UNY\\Aplikasi Web\\ASL_SignWish\\0_ASL.ipynb Cell 56\u001b[0m line \u001b[0;36m2\n\u001b[0;32m      <a href='vscode-notebook-cell:/d%3A/Kuliah%20UNY/Aplikasi%20Web/ASL_SignWish/0_ASL.ipynb#Y106sZmlsZQ%3D%3D?line=0'>1</a>\u001b[0m \u001b[39m# Show all language\u001b[39;00m\n\u001b[1;32m----> <a href='vscode-notebook-cell:/d%3A/Kuliah%20UNY/Aplikasi%20Web/ASL_SignWish/0_ASL.ipynb#Y106sZmlsZQ%3D%3D?line=1'>2</a>\u001b[0m voice_lang \u001b[39m=\u001b[39m {idx: \u001b[39mstr\u001b[39;49m(voice\u001b[39m.\u001b[39;49mlanguages[\u001b[39m0\u001b[39;49m])\u001b[39m.\u001b[39;49msplit(\u001b[39m'\u001b[39;49m\u001b[39m5\u001b[39;49m\u001b[39m'\u001b[39;49m)[\u001b[39m-\u001b[39;49m\u001b[39m1\u001b[39;49m] \u001b[39mfor\u001b[39;49;00m idx, voice \u001b[39min\u001b[39;49;00m \u001b[39menumerate\u001b[39;49m(voices)}\n\u001b[0;32m      <a href='vscode-notebook-cell:/d%3A/Kuliah%20UNY/Aplikasi%20Web/ASL_SignWish/0_ASL.ipynb#Y106sZmlsZQ%3D%3D?line=2'>3</a>\u001b[0m \u001b[39mprint\u001b[39m(voice_lang)\n",
      "\u001b[1;32md:\\Kuliah UNY\\Aplikasi Web\\ASL_SignWish\\0_ASL.ipynb Cell 56\u001b[0m line \u001b[0;36m2\n\u001b[0;32m      <a href='vscode-notebook-cell:/d%3A/Kuliah%20UNY/Aplikasi%20Web/ASL_SignWish/0_ASL.ipynb#Y106sZmlsZQ%3D%3D?line=0'>1</a>\u001b[0m \u001b[39m# Show all language\u001b[39;00m\n\u001b[1;32m----> <a href='vscode-notebook-cell:/d%3A/Kuliah%20UNY/Aplikasi%20Web/ASL_SignWish/0_ASL.ipynb#Y106sZmlsZQ%3D%3D?line=1'>2</a>\u001b[0m voice_lang \u001b[39m=\u001b[39m {idx: \u001b[39mstr\u001b[39m(voice\u001b[39m.\u001b[39;49mlanguages[\u001b[39m0\u001b[39;49m])\u001b[39m.\u001b[39msplit(\u001b[39m'\u001b[39m\u001b[39m5\u001b[39m\u001b[39m'\u001b[39m)[\u001b[39m-\u001b[39m\u001b[39m1\u001b[39m] \u001b[39mfor\u001b[39;00m idx, voice \u001b[39min\u001b[39;00m \u001b[39menumerate\u001b[39m(voices)}\n\u001b[0;32m      <a href='vscode-notebook-cell:/d%3A/Kuliah%20UNY/Aplikasi%20Web/ASL_SignWish/0_ASL.ipynb#Y106sZmlsZQ%3D%3D?line=2'>3</a>\u001b[0m \u001b[39mprint\u001b[39m(voice_lang)\n",
      "\u001b[1;31mIndexError\u001b[0m: list index out of range"
     ]
    }
   ],
   "source": [
    "# Show all language\n",
    "voice_lang = {idx: str(voice.languages[0]).split('5')[-1] for idx, voice in enumerate(voices)}\n",
    "print(voice_lang)\n"
   ]
  },
  {
   "cell_type": "code",
   "execution_count": 78,
   "metadata": {},
   "outputs": [
    {
     "ename": "IndexError",
     "evalue": "list index out of range",
     "output_type": "error",
     "traceback": [
      "\u001b[1;31m---------------------------------------------------------------------------\u001b[0m",
      "\u001b[1;31mIndexError\u001b[0m                                Traceback (most recent call last)",
      "\u001b[1;32md:\\Kuliah UNY\\Aplikasi Web\\ASL_SignWish\\0_ASL.ipynb Cell 58\u001b[0m line \u001b[0;36m3\n\u001b[0;32m      <a href='vscode-notebook-cell:/d%3A/Kuliah%20UNY/Aplikasi%20Web/ASL_SignWish/0_ASL.ipynb#Y110sZmlsZQ%3D%3D?line=0'>1</a>\u001b[0m engine \u001b[39m=\u001b[39m pyttsx3\u001b[39m.\u001b[39minit()\n\u001b[0;32m      <a href='vscode-notebook-cell:/d%3A/Kuliah%20UNY/Aplikasi%20Web/ASL_SignWish/0_ASL.ipynb#Y110sZmlsZQ%3D%3D?line=1'>2</a>\u001b[0m voices \u001b[39m=\u001b[39m engine\u001b[39m.\u001b[39mgetProperty(\u001b[39m'\u001b[39m\u001b[39mvoices\u001b[39m\u001b[39m'\u001b[39m)\n\u001b[1;32m----> <a href='vscode-notebook-cell:/d%3A/Kuliah%20UNY/Aplikasi%20Web/ASL_SignWish/0_ASL.ipynb#Y110sZmlsZQ%3D%3D?line=2'>3</a>\u001b[0m engine\u001b[39m.\u001b[39msetProperty(\u001b[39m'\u001b[39m\u001b[39mvoice\u001b[39m\u001b[39m'\u001b[39m, voices[\u001b[39m16\u001b[39;49m]\u001b[39m.\u001b[39mid)\n\u001b[0;32m      <a href='vscode-notebook-cell:/d%3A/Kuliah%20UNY/Aplikasi%20Web/ASL_SignWish/0_ASL.ipynb#Y110sZmlsZQ%3D%3D?line=3'>4</a>\u001b[0m engine\u001b[39m.\u001b[39msay(\u001b[39m'\u001b[39m\u001b[39mhello\u001b[39m\u001b[39m'\u001b[39m)\n\u001b[0;32m      <a href='vscode-notebook-cell:/d%3A/Kuliah%20UNY/Aplikasi%20Web/ASL_SignWish/0_ASL.ipynb#Y110sZmlsZQ%3D%3D?line=4'>5</a>\u001b[0m engine\u001b[39m.\u001b[39mrunAndWait()\n",
      "\u001b[1;31mIndexError\u001b[0m: list index out of range"
     ]
    }
   ],
   "source": [
    "engine = pyttsx3.init()\n",
    "voices = engine.getProperty('voices')\n",
    "engine.setProperty('voice', voices[16].id)\n",
    "engine.say('hello')\n",
    "engine.runAndWait()"
   ]
  },
  {
   "cell_type": "markdown",
   "metadata": {},
   "source": [
    "# 12. Test in Real Time"
   ]
  },
  {
   "cell_type": "code",
   "execution_count": 79,
   "metadata": {},
   "outputs": [],
   "source": [
    "res.sort()"
   ]
  },
  {
   "cell_type": "code",
   "execution_count": 148,
   "metadata": {},
   "outputs": [
    {
     "ename": "ValueError",
     "evalue": "The truth value of an array with more than one element is ambiguous. Use a.any() or a.all()",
     "output_type": "error",
     "traceback": [
      "\u001b[1;31m---------------------------------------------------------------------------\u001b[0m",
      "\u001b[1;31mValueError\u001b[0m                                Traceback (most recent call last)",
      "\u001b[1;32md:\\Kuliah UNY\\Aplikasi Web\\ASL_SignWish\\0_ASL.ipynb Cell 60\u001b[0m line \u001b[0;36m2\n\u001b[0;32m      <a href='vscode-notebook-cell:/d%3A/Kuliah%20UNY/Aplikasi%20Web/ASL_SignWish/0_ASL.ipynb#Y113sZmlsZQ%3D%3D?line=0'>1</a>\u001b[0m pred_dict \u001b[39m=\u001b[39m \u001b[39mdict\u001b[39m(\u001b[39mzip\u001b[39m(actions, res))\n\u001b[1;32m----> <a href='vscode-notebook-cell:/d%3A/Kuliah%20UNY/Aplikasi%20Web/ASL_SignWish/0_ASL.ipynb#Y113sZmlsZQ%3D%3D?line=1'>2</a>\u001b[0m prediction \u001b[39m=\u001b[39m \u001b[39msorted\u001b[39;49m(pred_dict\u001b[39m.\u001b[39;49mitems(), key\u001b[39m=\u001b[39;49m\u001b[39mlambda\u001b[39;49;00m x: x[\u001b[39m1\u001b[39;49m])[::\u001b[39m-\u001b[39m\u001b[39m1\u001b[39m]\n\u001b[0;32m      <a href='vscode-notebook-cell:/d%3A/Kuliah%20UNY/Aplikasi%20Web/ASL_SignWish/0_ASL.ipynb#Y113sZmlsZQ%3D%3D?line=2'>3</a>\u001b[0m prediction\n",
      "\u001b[1;31mValueError\u001b[0m: The truth value of an array with more than one element is ambiguous. Use a.any() or a.all()"
     ]
    }
   ],
   "source": [
    "pred_dict = dict(zip(actions, res))\n",
    "prediction = sorted(pred_dict.items(), key=lambda x: x[1])[::-1]\n",
    "prediction"
   ]
  },
  {
   "cell_type": "code",
   "execution_count": 146,
   "metadata": {},
   "outputs": [],
   "source": [
    "colors = [(245,117,16), (117,245,16), (16,117,245)]\n",
    "def prob_viz(res, actions, input_frame, colors):\n",
    "    output_frame = input_frame.copy()\n",
    "\n",
    "    pred_dict = dict(zip(actions, res))\n",
    "    # sorting for prediction and get top 5\n",
    "    prediction = sorted(pred_dict.items(), key=lambda x: x[1])[::-1][:5]\n",
    "\n",
    "    for num, pred in enumerate(prediction):\n",
    "        text = '{}: {}'.format(pred[0], pred[1])\n",
    "        # cv2.rectangle(output_frame, (0,60+num*40), (int(prob*100), 90+num*40), colors[num], -1)\n",
    "        cv2.putText(output_frame, text, (0, 85+num*40), cv2.FONT_HERSHEY_SIMPLEX, 1, (0,0,0), 2, cv2.LINE_AA)\n",
    "        \n",
    "    return output_frame"
   ]
  },
  {
   "cell_type": "code",
   "execution_count": 147,
   "metadata": {},
   "outputs": [
    {
     "ename": "IndexError",
     "evalue": "list index out of range",
     "output_type": "error",
     "traceback": [
      "\u001b[1;31m---------------------------------------------------------------------------\u001b[0m",
      "\u001b[1;31mIndexError\u001b[0m                                Traceback (most recent call last)",
      "\u001b[1;32md:\\Kuliah UNY\\Aplikasi Web\\ASL_SignWish\\0_ASL.ipynb Cell 62\u001b[0m line \u001b[0;36m1\n\u001b[0;32m      <a href='vscode-notebook-cell:/d%3A/Kuliah%20UNY/Aplikasi%20Web/ASL_SignWish/0_ASL.ipynb#Y115sZmlsZQ%3D%3D?line=7'>8</a>\u001b[0m engine \u001b[39m=\u001b[39m pyttsx3\u001b[39m.\u001b[39minit()\n\u001b[0;32m      <a href='vscode-notebook-cell:/d%3A/Kuliah%20UNY/Aplikasi%20Web/ASL_SignWish/0_ASL.ipynb#Y115sZmlsZQ%3D%3D?line=8'>9</a>\u001b[0m voices \u001b[39m=\u001b[39m engine\u001b[39m.\u001b[39mgetProperty(\u001b[39m'\u001b[39m\u001b[39mvoices\u001b[39m\u001b[39m'\u001b[39m)\n\u001b[1;32m---> <a href='vscode-notebook-cell:/d%3A/Kuliah%20UNY/Aplikasi%20Web/ASL_SignWish/0_ASL.ipynb#Y115sZmlsZQ%3D%3D?line=9'>10</a>\u001b[0m engine\u001b[39m.\u001b[39msetProperty(\u001b[39m'\u001b[39m\u001b[39mvoice\u001b[39m\u001b[39m'\u001b[39m, voices[\u001b[39m16\u001b[39;49m]\u001b[39m.\u001b[39mid)\n\u001b[0;32m     <a href='vscode-notebook-cell:/d%3A/Kuliah%20UNY/Aplikasi%20Web/ASL_SignWish/0_ASL.ipynb#Y115sZmlsZQ%3D%3D?line=11'>12</a>\u001b[0m cap \u001b[39m=\u001b[39m cv2\u001b[39m.\u001b[39mVideoCapture(\u001b[39m0\u001b[39m)\n\u001b[0;32m     <a href='vscode-notebook-cell:/d%3A/Kuliah%20UNY/Aplikasi%20Web/ASL_SignWish/0_ASL.ipynb#Y115sZmlsZQ%3D%3D?line=12'>13</a>\u001b[0m \u001b[39m# Set mediapipe model \u001b[39;00m\n",
      "\u001b[1;31mIndexError\u001b[0m: list index out of range"
     ]
    }
   ],
   "source": [
    "# New detection variables\n",
    "sequence = []\n",
    "sentence = []\n",
    "threshold = 0.9\n",
    "tts = False\n",
    "\n",
    "# Text to speak config:\n",
    "engine = pyttsx3.init()\n",
    "voices = engine.getProperty('voices')\n",
    "engine.setProperty('voice', voices[16].id)\n",
    "\n",
    "cap = cv2.VideoCapture(0)\n",
    "# Set mediapipe model \n",
    "with mp_holistic.Holistic(min_detection_confidence=0.7, min_tracking_confidence=0.7) as holistic:\n",
    "    while cap.isOpened():\n",
    "        # Read feed\n",
    "        ret, frame = cap.read()\n",
    "\n",
    "        # Make detections\n",
    "        image, results = mediapipe_detection(frame, holistic)\n",
    "        \n",
    "        # Draw landmarks\n",
    "        draw_styled_landmarks(image, results)\n",
    "        \n",
    "        # 2. Prediction logic\n",
    "        keypoints = extract_keypoints(results)\n",
    "\n",
    "        # sequence.insert(0,keypoints)\n",
    "        # sequence = sequence[:24]\n",
    "        sequence.append(keypoints)\n",
    "        sequence = sequence[-24:]\n",
    "        \n",
    "        if len(sequence) == 24:\n",
    "            res = model.predict(np.expand_dims(sequence, axis=0))[0]\n",
    "\n",
    "            #3. Viz logic\n",
    "            if res[np.argmax(res)] > threshold: \n",
    "                if len(sentence) > 0: \n",
    "                    if actions[np.argmax(res)] != sentence[-1]:\n",
    "                        sentence.append(actions[np.argmax(res)])\n",
    "                        tts = True\n",
    "                else:\n",
    "                    sentence.append(actions[np.argmax(res)])\n",
    "                    tts = True\n",
    "\n",
    "            if len(sentence) > 5: \n",
    "                sentence = sentence[-5:]\n",
    "\n",
    "            # Viz probabilities\n",
    "            image = prob_viz(res, actions, image, colors)\n",
    "\n",
    "            # Text to speak:\n",
    "            if tts:\n",
    "                engine.say(sentence[-1])\n",
    "                tts = False\n",
    "            engine.runAndWait()\n",
    "            \n",
    "            # \n",
    "            cv2.rectangle(image, (0,0), (640, 40), (245, 117, 16), -1)\n",
    "            cv2.putText(image, ' '.join(sentence), (3,30), \n",
    "                        cv2.FONT_HERSHEY_SIMPLEX, 0.5, (255, 255, 255), 1, cv2.LINE_AA)\n",
    "        \n",
    "        # Show to screen\n",
    "        cv2.imshow('OpenCV Feed', image)\n",
    "\n",
    "        # Break gracefully\n",
    "        if cv2.waitKey(10) & 0xFF == ord('q'):\n",
    "            break\n",
    "        \n",
    "    cap.release()\n",
    "    cv2.destroyAllWindows()"
   ]
  },
  {
   "cell_type": "markdown",
   "metadata": {},
   "source": [
    "## Check have 2 hands or not"
   ]
  },
  {
   "cell_type": "code",
   "execution_count": 94,
   "metadata": {},
   "outputs": [
    {
     "ename": "IndexError",
     "evalue": "list index out of range",
     "output_type": "error",
     "traceback": [
      "\u001b[1;31m---------------------------------------------------------------------------\u001b[0m",
      "\u001b[1;31mIndexError\u001b[0m                                Traceback (most recent call last)",
      "\u001b[1;32md:\\Kuliah UNY\\Aplikasi Web\\ASL_SignWish\\0_ASL.ipynb Cell 64\u001b[0m line \u001b[0;36m1\n\u001b[0;32m      <a href='vscode-notebook-cell:/d%3A/Kuliah%20UNY/Aplikasi%20Web/ASL_SignWish/0_ASL.ipynb#Y120sZmlsZQ%3D%3D?line=7'>8</a>\u001b[0m engine \u001b[39m=\u001b[39m pyttsx3\u001b[39m.\u001b[39minit()\n\u001b[0;32m      <a href='vscode-notebook-cell:/d%3A/Kuliah%20UNY/Aplikasi%20Web/ASL_SignWish/0_ASL.ipynb#Y120sZmlsZQ%3D%3D?line=8'>9</a>\u001b[0m voices \u001b[39m=\u001b[39m engine\u001b[39m.\u001b[39mgetProperty(\u001b[39m'\u001b[39m\u001b[39mvoices\u001b[39m\u001b[39m'\u001b[39m)\n\u001b[1;32m---> <a href='vscode-notebook-cell:/d%3A/Kuliah%20UNY/Aplikasi%20Web/ASL_SignWish/0_ASL.ipynb#Y120sZmlsZQ%3D%3D?line=9'>10</a>\u001b[0m engine\u001b[39m.\u001b[39msetProperty(\u001b[39m'\u001b[39m\u001b[39mvoice\u001b[39m\u001b[39m'\u001b[39m, voices[\u001b[39m16\u001b[39;49m]\u001b[39m.\u001b[39mid)\n\u001b[0;32m     <a href='vscode-notebook-cell:/d%3A/Kuliah%20UNY/Aplikasi%20Web/ASL_SignWish/0_ASL.ipynb#Y120sZmlsZQ%3D%3D?line=11'>12</a>\u001b[0m cap \u001b[39m=\u001b[39m cv2\u001b[39m.\u001b[39mVideoCapture(\u001b[39m0\u001b[39m)\n\u001b[0;32m     <a href='vscode-notebook-cell:/d%3A/Kuliah%20UNY/Aplikasi%20Web/ASL_SignWish/0_ASL.ipynb#Y120sZmlsZQ%3D%3D?line=12'>13</a>\u001b[0m \u001b[39m# Set mediapipe model \u001b[39;00m\n",
      "\u001b[1;31mIndexError\u001b[0m: list index out of range"
     ]
    }
   ],
   "source": [
    "# New detection variables\n",
    "sequence = []\n",
    "sentence = []\n",
    "threshold = 0.87\n",
    "tts = False\n",
    "\n",
    "# Text to speak config:\n",
    "engine = pyttsx3.init()\n",
    "voices = engine.getProperty('voices')\n",
    "engine.setProperty('voice', voices[16].id)\n",
    "\n",
    "cap = cv2.VideoCapture(0)\n",
    "# Set mediapipe model \n",
    "with mp_holistic.Holistic(min_detection_confidence=0.7, min_tracking_confidence=0.7) as holistic:\n",
    "    while cap.isOpened():\n",
    "        # Read feed\n",
    "        ret, frame = cap.read()\n",
    "\n",
    "        # Make detections\n",
    "        image, results = mediapipe_detection(frame, holistic)\n",
    "        \n",
    "        # Draw landmarks\n",
    "        draw_styled_landmarks(image, results)\n",
    "\n",
    "        # 2. Prediction logic\n",
    "        # Check have 2 hands or not:\n",
    "        # results.right_hand_landmarks.landmark\n",
    "        keypoints = extract_keypoints(results)\n",
    "\n",
    "        sequence.append(keypoints)\n",
    "        sequence = sequence[-24:]\n",
    "\n",
    "        if len(sequence) == 24:\n",
    "            res = model.predict(np.expand_dims(sequence, axis=0))[0]\n",
    "\n",
    "            #3. Viz logic\n",
    "            if res[np.argmax(res)] > threshold: \n",
    "                if len(sentence) > 0: \n",
    "                    if actions[np.argmax(res)] != sentence[-1]:\n",
    "                        sentence.append(actions[np.argmax(res)])\n",
    "                        tts = True\n",
    "                else:\n",
    "                    sentence.append(actions[np.argmax(res)])\n",
    "                    tts = True\n",
    "\n",
    "            if len(sentence) > 5: \n",
    "                sentence = sentence[-5:]\n",
    "\n",
    "            # Viz probabilities\n",
    "            image = prob_viz(res, actions, image, colors)\n",
    "\n",
    "            # Text to speak:\n",
    "            if tts:\n",
    "                engine.say(sentence[-1])\n",
    "                tts = False\n",
    "            engine.runAndWait()\n",
    "\n",
    "            cv2.rectangle(image, (0,0), (640, 40), (245, 117, 16), -1)\n",
    "            cv2.putText(image, ' '.join(sentence), (3,30), \n",
    "                        cv2.FONT_HERSHEY_SIMPLEX, 0.5, (255, 255, 255), 1, cv2.LINE_AA)\n",
    "\n",
    "        image = prob_viz(res, actions, image, colors)\n",
    "\n",
    "        # Break gracefully\n",
    "        if cv2.waitKey(10) & 0xFF == ord('q'):\n",
    "            break\n",
    "        \n",
    "    cap.release()\n",
    "    cv2.destroyAllWindows()"
   ]
  },
  {
   "cell_type": "code",
   "execution_count": 97,
   "metadata": {},
   "outputs": [],
   "source": [
    "cap.release()\n",
    "cv2.destroyAllWindows()"
   ]
  },
  {
   "cell_type": "code",
   "execution_count": 98,
   "metadata": {},
   "outputs": [
    {
     "data": {
      "text/plain": [
       "array([False,  True])"
      ]
     },
     "execution_count": 98,
     "metadata": {},
     "output_type": "execute_result"
    }
   ],
   "source": [
    "res[np.argmax(res)] > threshold"
   ]
  },
  {
   "cell_type": "code",
   "execution_count": 99,
   "metadata": {},
   "outputs": [
    {
     "ename": "NameError",
     "evalue": "name 'num_sequences' is not defined",
     "output_type": "error",
     "traceback": [
      "\u001b[1;31m---------------------------------------------------------------------------\u001b[0m",
      "\u001b[1;31mNameError\u001b[0m                                 Traceback (most recent call last)",
      "\u001b[1;32md:\\Kuliah UNY\\Aplikasi Web\\ASL_SignWish\\0_ASL.ipynb Cell 67\u001b[0m line \u001b[0;36m1\n\u001b[1;32m----> <a href='vscode-notebook-cell:/d%3A/Kuliah%20UNY/Aplikasi%20Web/ASL_SignWish/0_ASL.ipynb#Y123sZmlsZQ%3D%3D?line=0'>1</a>\u001b[0m (num_sequences,\u001b[39m30\u001b[39m,\u001b[39m1662\u001b[39m)\n",
      "\u001b[1;31mNameError\u001b[0m: name 'num_sequences' is not defined"
     ]
    }
   ],
   "source": [
    "(num_sequences,30,1662)"
   ]
  },
  {
   "cell_type": "code",
   "execution_count": 95,
   "metadata": {},
   "outputs": [
    {
     "name": "stdout",
     "output_type": "stream",
     "text": [
      "1/1 [==============================] - 0s 38ms/step\n"
     ]
    },
    {
     "data": {
      "text/plain": [
       "array([[1.4926501e-18, 1.0000000e+00]], dtype=float32)"
      ]
     },
     "execution_count": 95,
     "metadata": {},
     "output_type": "execute_result"
    }
   ],
   "source": [
    "model.predict(np.expand_dims(X_test[0], axis=0))"
   ]
  },
  {
   "cell_type": "code",
   "execution_count": null,
   "metadata": {},
   "outputs": [],
   "source": []
  }
 ],
 "metadata": {
  "interpreter": {
   "hash": "ba270cfb2c939fc40015c14353ca7c60554ef351e2aeddde3b7f5a432be1c5a8"
  },
  "kernelspec": {
   "display_name": "Python 3.9.7 64-bit ('asl': conda)",
   "name": "python3"
  },
  "language_info": {
   "codemirror_mode": {
    "name": "ipython",
    "version": 3
   },
   "file_extension": ".py",
   "mimetype": "text/x-python",
   "name": "python",
   "nbconvert_exporter": "python",
   "pygments_lexer": "ipython3",
   "version": "3.11.6"
  }
 },
 "nbformat": 4,
 "nbformat_minor": 2
}
