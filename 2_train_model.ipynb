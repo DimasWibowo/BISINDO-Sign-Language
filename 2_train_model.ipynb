{
 "cells": [
  {
   "cell_type": "markdown",
   "metadata": {},
   "source": [
    "# 1. Import and Install Dependencies"
   ]
  },
  {
   "cell_type": "code",
   "execution_count": 44,
   "metadata": {},
   "outputs": [],
   "source": [
    "# !pip install tensorflow==2.4.1 tensorflow-gpu==2.4.1 opencv-python mediapipe sklearn matplotlib"
   ]
  },
  {
   "cell_type": "code",
   "execution_count": 1,
   "metadata": {},
   "outputs": [],
   "source": [
    "import cv2\n",
    "import numpy as np\n",
    "import os\n",
    "from matplotlib import pyplot as plt\n",
    "import time\n",
    "import mediapipe as mp"
   ]
  },
  {
   "cell_type": "markdown",
   "metadata": {},
   "source": [
    "# 2. Keypoints using MP Holistic"
   ]
  },
  {
   "cell_type": "code",
   "execution_count": 11,
   "metadata": {},
   "outputs": [],
   "source": [
    "mp_holistic = mp.solutions.holistic # Holistic model\n",
    "mp_drawing = mp.solutions.drawing_utils # Drawing utilities"
   ]
  },
  {
   "cell_type": "code",
   "execution_count": 12,
   "metadata": {},
   "outputs": [],
   "source": [
    "def mediapipe_detection(image, model):\n",
    "    image = cv2.cvtColor(image, cv2.COLOR_BGR2RGB) # COLOR CONVERSION BGR 2 RGB\n",
    "    image.flags.writeable = False                  # Image is no longer writeable\n",
    "    results = model.process(image)                 # Make prediction\n",
    "    image.flags.writeable = True                   # Image is now writeable \n",
    "    image = cv2.cvtColor(image, cv2.COLOR_RGB2BGR) # COLOR COVERSION RGB 2 BGR\n",
    "    return image, results"
   ]
  },
  {
   "cell_type": "code",
   "execution_count": 13,
   "metadata": {},
   "outputs": [],
   "source": [
    "def draw_styled_landmarks(image, results):\n",
    "    # Draw face connections\n",
    "    # mp_drawing.draw_landmarks(image, results.face_landmarks, mp_holistic.FACEMESH_CONTOURS, \n",
    "    #                          mp_drawing.DrawingSpec(color=(80,110,10), thickness=1, circle_radius=1), \n",
    "    #                          mp_drawing.DrawingSpec(color=(80,256,121), thickness=1, circle_radius=1)\n",
    "    #                          ) \n",
    "    # # Draw pose connections\n",
    "    mp_drawing.draw_landmarks(image, results.pose_landmarks, mp_holistic.POSE_CONNECTIONS,\n",
    "                             mp_drawing.DrawingSpec(color=(80,22,10), thickness=2, circle_radius=4), \n",
    "                             mp_drawing.DrawingSpec(color=(80,44,121), thickness=2, circle_radius=2)\n",
    "                             ) \n",
    "    # Draw left hand connections\n",
    "    mp_drawing.draw_landmarks(image, results.left_hand_landmarks, mp_holistic.HAND_CONNECTIONS, \n",
    "                             mp_drawing.DrawingSpec(color=(121,22,76), thickness=2, circle_radius=4), \n",
    "                             mp_drawing.DrawingSpec(color=(121,44,250), thickness=2, circle_radius=2)\n",
    "                             ) \n",
    "    # Draw right hand connections  \n",
    "    mp_drawing.draw_landmarks(image, results.right_hand_landmarks, mp_holistic.HAND_CONNECTIONS, \n",
    "                             mp_drawing.DrawingSpec(color=(245,117,66), thickness=2, circle_radius=4), \n",
    "                             mp_drawing.DrawingSpec(color=(245,66,230), thickness=2, circle_radius=2)\n",
    "                             ) "
   ]
  },
  {
   "cell_type": "markdown",
   "metadata": {},
   "source": [
    "# 3. Extract Keypoint Values"
   ]
  },
  {
   "cell_type": "code",
   "execution_count": 14,
   "metadata": {},
   "outputs": [],
   "source": [
    "def extract_keypoints(results):\n",
    "    pose = np.array([[res.x, res.y, res.z, res.visibility] for res in results.pose_landmarks.landmark]).flatten() if results.pose_landmarks else np.zeros(33*4)\n",
    "    # face = np.array([[res.x, res.y, res.z] for res in results.face_landmarks.landmark]).flatten() if results.face_landmarks else np.zeros(468*3)\n",
    "    lh = np.array([[res.x, res.y, res.z] for res in results.left_hand_landmarks.landmark]).flatten() if results.left_hand_landmarks else np.zeros(21*3)\n",
    "    rh = np.array([[res.x, res.y, res.z] for res in results.right_hand_landmarks.landmark]).flatten() if results.right_hand_landmarks else np.zeros(21*3)\n",
    "    return np.concatenate([pose, lh, rh])"
   ]
  },
  {
   "cell_type": "markdown",
   "metadata": {},
   "source": [
    "# 6. Preprocess Data and Create Labels and Features"
   ]
  },
  {
   "cell_type": "code",
   "execution_count": 15,
   "metadata": {},
   "outputs": [],
   "source": [
    "from sklearn.model_selection import train_test_split\n",
    "from tensorflow.keras.utils import to_categorical"
   ]
  },
  {
   "cell_type": "code",
   "execution_count": 16,
   "metadata": {},
   "outputs": [],
   "source": [
    "actions = os.listdir('./MP_Data')\n",
    "actions = np.array(actions)\n",
    "\n",
    "# Path for exported data, numpy arrays\n",
    "DATA_PATH = os.path.join('./MP_Data') \n",
    "\n",
    "# Thirty videos worth of data\n",
    "no_sequences = 80\n",
    "\n",
    "# Videos are going to be 30 frames in length\n",
    "sequence_length = 24"
   ]
  },
  {
   "cell_type": "code",
   "execution_count": 17,
   "metadata": {},
   "outputs": [],
   "source": [
    "label_map = {label:num for num, label in enumerate(actions)}"
   ]
  },
  {
   "cell_type": "code",
   "execution_count": 18,
   "metadata": {},
   "outputs": [
    {
     "data": {
      "text/plain": [
       "{'Bapak': 0, 'Terima Kasih': 1}"
      ]
     },
     "execution_count": 18,
     "metadata": {},
     "output_type": "execute_result"
    }
   ],
   "source": [
    "label_map"
   ]
  },
  {
   "cell_type": "code",
   "execution_count": 19,
   "metadata": {},
   "outputs": [],
   "source": [
    "sequences, labels = [], []\n",
    "for action in actions:\n",
    "    for sequence in range(no_sequences):\n",
    "        window = []\n",
    "        for frame_num in range(sequence_length):\n",
    "            res = np.load(os.path.join(DATA_PATH, action, str(sequence), \"{}.npy\".format(frame_num)))\n",
    "            window.append(res)\n",
    "        sequences.append(window)\n",
    "        labels.append(label_map[action])"
   ]
  },
  {
   "cell_type": "code",
   "execution_count": 20,
   "metadata": {},
   "outputs": [
    {
     "data": {
      "text/plain": [
       "(160, 24, 258)"
      ]
     },
     "execution_count": 20,
     "metadata": {},
     "output_type": "execute_result"
    }
   ],
   "source": [
    "X = np.array(sequences)\n",
    "X.shape"
   ]
  },
  {
   "cell_type": "code",
   "execution_count": 21,
   "metadata": {},
   "outputs": [
    {
     "data": {
      "text/plain": [
       "(160, 2)"
      ]
     },
     "execution_count": 21,
     "metadata": {},
     "output_type": "execute_result"
    }
   ],
   "source": [
    "y = to_categorical(labels).astype(int)\n",
    "y.shape"
   ]
  },
  {
   "cell_type": "code",
   "execution_count": 22,
   "metadata": {},
   "outputs": [
    {
     "data": {
      "text/plain": [
       "((144, 24, 258), (16, 24, 258), (144, 2), (16, 2))"
      ]
     },
     "execution_count": 22,
     "metadata": {},
     "output_type": "execute_result"
    }
   ],
   "source": [
    "X_train, X_test, y_train, y_test = train_test_split(X, y, test_size=0.1, stratify=y)\n",
    "\n",
    "X_train.shape, X_test.shape, y_train.shape, y_test.shape"
   ]
  },
  {
   "cell_type": "markdown",
   "metadata": {},
   "source": [
    "# 7. Build and Train LSTM Neural Network"
   ]
  },
  {
   "cell_type": "code",
   "execution_count": 23,
   "metadata": {},
   "outputs": [],
   "source": [
    "from tensorflow.keras.models import Sequential\n",
    "from tensorflow.keras.layers import LSTM, Dense, Dropout\n",
    "from tensorflow.keras.callbacks import TensorBoard, ReduceLROnPlateau\n",
    "import tensorflow as tf"
   ]
  },
  {
   "cell_type": "code",
   "execution_count": 24,
   "metadata": {},
   "outputs": [],
   "source": [
    "log_dir = os.path.join('Logs')\n",
    "tb_callback = [\n",
    "    # TensorBoard(log_dir=log_dir),\n",
    "    ReduceLROnPlateau(factor=0.1, patience=5)\n",
    "]"
   ]
  },
  {
   "cell_type": "code",
   "execution_count": 25,
   "metadata": {},
   "outputs": [],
   "source": [
    "model = Sequential()\n",
    "model.add(LSTM(64, return_sequences=True, activation='relu', input_shape=(24,258)))\n",
    "model.add(LSTM(128, return_sequences=True, activation='relu'))\n",
    "model.add(LSTM(64, return_sequences=False, activation='relu'))\n",
    "model.add(Dense(64, activation='relu'))\n",
    "model.add(Dropout(0.3))\n",
    "model.add(Dense(32, activation='relu'))\n",
    "model.add(Dense(actions.shape[0], activation='softmax'))"
   ]
  },
  {
   "cell_type": "code",
   "execution_count": 26,
   "metadata": {},
   "outputs": [
    {
     "name": "stdout",
     "output_type": "stream",
     "text": [
      "Model: \"sequential\"\n",
      "_________________________________________________________________\n",
      " Layer (type)                Output Shape              Param #   \n",
      "=================================================================\n",
      " lstm (LSTM)                 (None, 24, 64)            82688     \n",
      "                                                                 \n",
      " lstm_1 (LSTM)               (None, 24, 128)           98816     \n",
      "                                                                 \n",
      " lstm_2 (LSTM)               (None, 64)                49408     \n",
      "                                                                 \n",
      " dense (Dense)               (None, 64)                4160      \n",
      "                                                                 \n",
      " dropout (Dropout)           (None, 64)                0         \n",
      "                                                                 \n",
      " dense_1 (Dense)             (None, 32)                2080      \n",
      "                                                                 \n",
      " dense_2 (Dense)             (None, 2)                 66        \n",
      "                                                                 \n",
      "=================================================================\n",
      "Total params: 237218 (926.63 KB)\n",
      "Trainable params: 237218 (926.63 KB)\n",
      "Non-trainable params: 0 (0.00 Byte)\n",
      "_________________________________________________________________\n"
     ]
    }
   ],
   "source": [
    "model.summary()"
   ]
  },
  {
   "cell_type": "code",
   "execution_count": 27,
   "metadata": {},
   "outputs": [
    {
     "name": "stdout",
     "output_type": "stream",
     "text": [
      "Epoch 1/50\n",
      "5/5 [==============================] - 7s 245ms/step - loss: 0.6900 - accuracy: 0.5069 - val_loss: 0.6380 - val_accuracy: 0.5000 - lr: 1.0000e-04\n",
      "Epoch 2/50\n",
      "5/5 [==============================] - 0s 38ms/step - loss: 0.6307 - accuracy: 0.5278 - val_loss: 0.5892 - val_accuracy: 0.6250 - lr: 1.0000e-04\n",
      "Epoch 3/50\n",
      "5/5 [==============================] - 0s 36ms/step - loss: 0.5523 - accuracy: 0.6319 - val_loss: 0.4821 - val_accuracy: 0.8125 - lr: 1.0000e-04\n",
      "Epoch 4/50\n",
      "5/5 [==============================] - 0s 37ms/step - loss: 0.4539 - accuracy: 0.8056 - val_loss: 0.4154 - val_accuracy: 0.8125 - lr: 1.0000e-04\n",
      "Epoch 5/50\n",
      "5/5 [==============================] - 0s 41ms/step - loss: 0.3481 - accuracy: 0.9097 - val_loss: 0.2607 - val_accuracy: 1.0000 - lr: 1.0000e-04\n",
      "Epoch 6/50\n",
      "5/5 [==============================] - 0s 39ms/step - loss: 0.2822 - accuracy: 0.9514 - val_loss: 0.1874 - val_accuracy: 1.0000 - lr: 1.0000e-04\n",
      "Epoch 7/50\n",
      "5/5 [==============================] - 0s 36ms/step - loss: 0.2194 - accuracy: 0.9306 - val_loss: 0.1124 - val_accuracy: 1.0000 - lr: 1.0000e-04\n",
      "Epoch 8/50\n",
      "5/5 [==============================] - 0s 38ms/step - loss: 0.1289 - accuracy: 0.9722 - val_loss: 0.0351 - val_accuracy: 1.0000 - lr: 1.0000e-04\n",
      "Epoch 9/50\n",
      "5/5 [==============================] - 0s 35ms/step - loss: 0.0953 - accuracy: 0.9722 - val_loss: 0.0502 - val_accuracy: 1.0000 - lr: 1.0000e-04\n",
      "Epoch 10/50\n",
      "5/5 [==============================] - 0s 36ms/step - loss: 0.0411 - accuracy: 0.9931 - val_loss: 0.0904 - val_accuracy: 0.9375 - lr: 1.0000e-04\n",
      "Epoch 11/50\n",
      "5/5 [==============================] - 0s 36ms/step - loss: 0.0428 - accuracy: 0.9861 - val_loss: 0.0037 - val_accuracy: 1.0000 - lr: 1.0000e-04\n",
      "Epoch 12/50\n",
      "5/5 [==============================] - 0s 36ms/step - loss: 0.0200 - accuracy: 0.9931 - val_loss: 0.0086 - val_accuracy: 1.0000 - lr: 1.0000e-04\n",
      "Epoch 13/50\n",
      "5/5 [==============================] - 0s 36ms/step - loss: 0.0105 - accuracy: 1.0000 - val_loss: 4.0275e-04 - val_accuracy: 1.0000 - lr: 1.0000e-04\n",
      "Epoch 14/50\n",
      "5/5 [==============================] - 0s 36ms/step - loss: 0.0092 - accuracy: 1.0000 - val_loss: 2.4662e-04 - val_accuracy: 1.0000 - lr: 1.0000e-04\n",
      "Epoch 15/50\n",
      "5/5 [==============================] - 0s 37ms/step - loss: 0.0494 - accuracy: 0.9861 - val_loss: 3.7069e-04 - val_accuracy: 1.0000 - lr: 1.0000e-04\n",
      "Epoch 16/50\n",
      "5/5 [==============================] - 0s 37ms/step - loss: 0.0187 - accuracy: 0.9861 - val_loss: 0.0045 - val_accuracy: 1.0000 - lr: 1.0000e-04\n",
      "Epoch 17/50\n",
      "5/5 [==============================] - 0s 38ms/step - loss: 0.0109 - accuracy: 0.9931 - val_loss: 4.9116e-04 - val_accuracy: 1.0000 - lr: 1.0000e-04\n",
      "Epoch 18/50\n",
      "5/5 [==============================] - 0s 36ms/step - loss: 0.0139 - accuracy: 0.9931 - val_loss: 6.2230e-04 - val_accuracy: 1.0000 - lr: 1.0000e-04\n",
      "Epoch 19/50\n",
      "5/5 [==============================] - 0s 38ms/step - loss: 0.0083 - accuracy: 1.0000 - val_loss: 0.0020 - val_accuracy: 1.0000 - lr: 1.0000e-04\n",
      "Epoch 20/50\n",
      "5/5 [==============================] - 0s 36ms/step - loss: 0.0135 - accuracy: 0.9931 - val_loss: 0.0018 - val_accuracy: 1.0000 - lr: 1.0000e-05\n",
      "Epoch 21/50\n",
      "5/5 [==============================] - 0s 37ms/step - loss: 0.0078 - accuracy: 1.0000 - val_loss: 0.0016 - val_accuracy: 1.0000 - lr: 1.0000e-05\n",
      "Epoch 22/50\n",
      "5/5 [==============================] - 0s 37ms/step - loss: 0.0109 - accuracy: 1.0000 - val_loss: 0.0012 - val_accuracy: 1.0000 - lr: 1.0000e-05\n",
      "Epoch 23/50\n",
      "5/5 [==============================] - 0s 36ms/step - loss: 0.0029 - accuracy: 1.0000 - val_loss: 8.8055e-04 - val_accuracy: 1.0000 - lr: 1.0000e-05\n",
      "Epoch 24/50\n",
      "5/5 [==============================] - 0s 37ms/step - loss: 0.0066 - accuracy: 1.0000 - val_loss: 7.6836e-04 - val_accuracy: 1.0000 - lr: 1.0000e-05\n",
      "Epoch 25/50\n",
      "5/5 [==============================] - 0s 38ms/step - loss: 0.0094 - accuracy: 1.0000 - val_loss: 7.6354e-04 - val_accuracy: 1.0000 - lr: 1.0000e-06\n",
      "Epoch 26/50\n",
      "5/5 [==============================] - 0s 37ms/step - loss: 0.0050 - accuracy: 1.0000 - val_loss: 7.6085e-04 - val_accuracy: 1.0000 - lr: 1.0000e-06\n",
      "Epoch 27/50\n",
      "5/5 [==============================] - 0s 37ms/step - loss: 0.0022 - accuracy: 1.0000 - val_loss: 7.5760e-04 - val_accuracy: 1.0000 - lr: 1.0000e-06\n",
      "Epoch 28/50\n",
      "5/5 [==============================] - 0s 37ms/step - loss: 0.0036 - accuracy: 1.0000 - val_loss: 7.5421e-04 - val_accuracy: 1.0000 - lr: 1.0000e-06\n",
      "Epoch 29/50\n",
      "5/5 [==============================] - 0s 37ms/step - loss: 0.0051 - accuracy: 1.0000 - val_loss: 7.4979e-04 - val_accuracy: 1.0000 - lr: 1.0000e-06\n",
      "Epoch 30/50\n",
      "5/5 [==============================] - 0s 37ms/step - loss: 0.0094 - accuracy: 1.0000 - val_loss: 7.4926e-04 - val_accuracy: 1.0000 - lr: 1.0000e-07\n",
      "Epoch 31/50\n",
      "5/5 [==============================] - 0s 36ms/step - loss: 0.0031 - accuracy: 1.0000 - val_loss: 7.4864e-04 - val_accuracy: 1.0000 - lr: 1.0000e-07\n",
      "Epoch 32/50\n",
      "5/5 [==============================] - 0s 37ms/step - loss: 0.0028 - accuracy: 1.0000 - val_loss: 7.4790e-04 - val_accuracy: 1.0000 - lr: 1.0000e-07\n",
      "Epoch 33/50\n",
      "5/5 [==============================] - 0s 46ms/step - loss: 0.0033 - accuracy: 1.0000 - val_loss: 7.4718e-04 - val_accuracy: 1.0000 - lr: 1.0000e-07\n",
      "Epoch 34/50\n",
      "5/5 [==============================] - 0s 38ms/step - loss: 0.0041 - accuracy: 1.0000 - val_loss: 7.4617e-04 - val_accuracy: 1.0000 - lr: 1.0000e-07\n",
      "Epoch 35/50\n",
      "5/5 [==============================] - 0s 36ms/step - loss: 0.0209 - accuracy: 0.9861 - val_loss: 7.4617e-04 - val_accuracy: 1.0000 - lr: 1.0000e-08\n",
      "Epoch 36/50\n",
      "5/5 [==============================] - 0s 37ms/step - loss: 0.0038 - accuracy: 1.0000 - val_loss: 7.4620e-04 - val_accuracy: 1.0000 - lr: 1.0000e-08\n",
      "Epoch 37/50\n",
      "5/5 [==============================] - 0s 36ms/step - loss: 0.0108 - accuracy: 0.9931 - val_loss: 7.4622e-04 - val_accuracy: 1.0000 - lr: 1.0000e-08\n",
      "Epoch 38/50\n",
      "5/5 [==============================] - 0s 38ms/step - loss: 0.0059 - accuracy: 1.0000 - val_loss: 7.4627e-04 - val_accuracy: 1.0000 - lr: 1.0000e-08\n",
      "Epoch 39/50\n",
      "5/5 [==============================] - 0s 37ms/step - loss: 0.0038 - accuracy: 1.0000 - val_loss: 7.4627e-04 - val_accuracy: 1.0000 - lr: 1.0000e-08\n",
      "Epoch 40/50\n",
      "5/5 [==============================] - 0s 37ms/step - loss: 0.0061 - accuracy: 1.0000 - val_loss: 7.4627e-04 - val_accuracy: 1.0000 - lr: 1.0000e-09\n",
      "Epoch 41/50\n",
      "5/5 [==============================] - 0s 38ms/step - loss: 0.0065 - accuracy: 1.0000 - val_loss: 7.4627e-04 - val_accuracy: 1.0000 - lr: 1.0000e-09\n",
      "Epoch 42/50\n",
      "5/5 [==============================] - 0s 37ms/step - loss: 0.0022 - accuracy: 1.0000 - val_loss: 7.4627e-04 - val_accuracy: 1.0000 - lr: 1.0000e-09\n",
      "Epoch 43/50\n",
      "5/5 [==============================] - 0s 37ms/step - loss: 0.0036 - accuracy: 1.0000 - val_loss: 7.4627e-04 - val_accuracy: 1.0000 - lr: 1.0000e-09\n",
      "Epoch 44/50\n",
      "5/5 [==============================] - 0s 37ms/step - loss: 0.0020 - accuracy: 1.0000 - val_loss: 7.4627e-04 - val_accuracy: 1.0000 - lr: 1.0000e-09\n",
      "Epoch 45/50\n",
      "5/5 [==============================] - 0s 36ms/step - loss: 0.0081 - accuracy: 1.0000 - val_loss: 7.4627e-04 - val_accuracy: 1.0000 - lr: 1.0000e-10\n",
      "Epoch 46/50\n",
      "5/5 [==============================] - 0s 45ms/step - loss: 0.0060 - accuracy: 1.0000 - val_loss: 7.4627e-04 - val_accuracy: 1.0000 - lr: 1.0000e-10\n",
      "Epoch 47/50\n",
      "5/5 [==============================] - 0s 36ms/step - loss: 0.0079 - accuracy: 1.0000 - val_loss: 7.4627e-04 - val_accuracy: 1.0000 - lr: 1.0000e-10\n",
      "Epoch 48/50\n",
      "5/5 [==============================] - 0s 37ms/step - loss: 0.0057 - accuracy: 1.0000 - val_loss: 7.4627e-04 - val_accuracy: 1.0000 - lr: 1.0000e-10\n",
      "Epoch 49/50\n",
      "5/5 [==============================] - 0s 38ms/step - loss: 0.0060 - accuracy: 1.0000 - val_loss: 7.4627e-04 - val_accuracy: 1.0000 - lr: 1.0000e-10\n",
      "Epoch 50/50\n",
      "5/5 [==============================] - 0s 41ms/step - loss: 0.0039 - accuracy: 1.0000 - val_loss: 7.4627e-04 - val_accuracy: 1.0000 - lr: 1.0000e-11\n"
     ]
    }
   ],
   "source": [
    "model.compile(optimizer=tf.optimizers.Adam(learning_rate=0.0001), \n",
    "                loss='categorical_crossentropy', \n",
    "                metrics=['accuracy'])\n",
    "\n",
    "history = model.fit(X_train, y_train, \n",
    "                        epochs=50, \n",
    "                        callbacks=[tb_callback],\n",
    "                        validation_data = (X_test, y_test))"
   ]
  },
  {
   "cell_type": "code",
   "execution_count": 28,
   "metadata": {},
   "outputs": [
    {
     "data": {
      "text/plain": [
       "Text(0.5, 1.0, 'Training and Validation Loss')"
      ]
     },
     "execution_count": 28,
     "metadata": {},
     "output_type": "execute_result"
    },
    {
     "data": {
      "image/png": "[encoded data removed]",
      "text/plain": [
       "<Figure size 2000x1000 with 2 Axes>"
      ]
     },
     "metadata": {},
     "output_type": "display_data"
    }
   ],
   "source": [
    "acc = history.history['accuracy']\n",
    "val_acc = history.history['val_accuracy']\n",
    "loss = history.history['loss']\n",
    "val_loss = history.history['val_loss']\n",
    "epochs_range = history.epoch\n",
    "\n",
    "plt.figure(figsize=(20,10))\n",
    "plt.subplot(1, 2, 1)\n",
    "plt.plot(epochs_range, acc, label='Training Accuracy')\n",
    "plt.plot(epochs_range, val_acc, label='Validation Accuracy')\n",
    "plt.legend(loc='lower right')\n",
    "plt.title('Training and Validation Accuracy')\n",
    "\n",
    "plt.subplot(1, 2, 2)\n",
    "plt.plot(epochs_range, loss, label='Training Loss')\n",
    "plt.plot(epochs_range, val_loss, label='Validation Loss')\n",
    "plt.legend(loc='upper right')\n",
    "plt.title('Training and Validation Loss')"
   ]
  },
  {
   "cell_type": "markdown",
   "metadata": {},
   "source": [
    "# 8. Make Predictions"
   ]
  },
  {
   "cell_type": "code",
   "execution_count": 29,
   "metadata": {},
   "outputs": [
    {
     "name": "stdout",
     "output_type": "stream",
     "text": [
      "1/1 [==============================] - 1s 555ms/step\n"
     ]
    }
   ],
   "source": [
    "res = model.predict(X_test)"
   ]
  },
  {
   "cell_type": "code",
   "execution_count": 30,
   "metadata": {},
   "outputs": [
    {
     "data": {
      "text/plain": [
       "'Bapak'"
      ]
     },
     "execution_count": 30,
     "metadata": {},
     "output_type": "execute_result"
    }
   ],
   "source": [
    "actions[np.argmax(res[11])]"
   ]
  },
  {
   "cell_type": "code",
   "execution_count": 31,
   "metadata": {},
   "outputs": [
    {
     "data": {
      "text/plain": [
       "'Bapak'"
      ]
     },
     "execution_count": 31,
     "metadata": {},
     "output_type": "execute_result"
    }
   ],
   "source": [
    "actions[np.argmax(y_test[11])]"
   ]
  },
  {
   "cell_type": "markdown",
   "metadata": {},
   "source": [
    "# 9. Save Weights"
   ]
  },
  {
   "cell_type": "code",
   "execution_count": 32,
   "metadata": {},
   "outputs": [
    {
     "name": "stderr",
     "output_type": "stream",
     "text": [
      "c:\\Streamlit\\dims\\Lib\\site-packages\\keras\\src\\engine\\training.py:3079: UserWarning: You are saving your model as an HDF5 file via `model.save()`. This file format is considered legacy. We recommend using instead the native Keras format, e.g. `model.save('my_model.keras')`.\n",
      "  saving_api.save_model(\n"
     ]
    }
   ],
   "source": [
    "model.save('model_13classes_261021.h5')"
   ]
  }
 ],
 "metadata": {
  "interpreter": {
   "hash": "ba270cfb2c939fc40015c14353ca7c60554ef351e2aeddde3b7f5a432be1c5a8"
  },
  "kernelspec": {
   "display_name": "Python 3.9.7 64-bit ('asl': conda)",
   "name": "python3"
  },
  "language_info": {
   "codemirror_mode": {
    "name": "ipython",
    "version": 3
   },
   "file_extension": ".py",
   "mimetype": "text/x-python",
   "name": "python",
   "nbconvert_exporter": "python",
   "pygments_lexer": "ipython3",
   "version": "3.11.6"
  }
 },
 "nbformat": 4,
 "nbformat_minor": 2
}
